{
 "cells": [
  {
   "cell_type": "markdown",
   "metadata": {},
   "source": [
    "امیرحسین علیزاد     810197546\n",
    "="
   ]
  },
  {
   "cell_type": "markdown",
   "metadata": {},
   "source": [
    "پروژه ی 0\n",
    "==\n",
    "**در این تمرین کامپیوتری سعی داریم با استفاده از داده های خوانده شده از یک فایل نقصی های آن را مانند سن افراد، استفاده روزانه از اینترنت و ... ان هارا کامل کنیم و در نهایت بهترین ویژگی از میان این ویژگی هارا انتخاب کنیم تا با استفاده از ان بتوانیم پیش بینی کنیم که ایا افرادی که ستون کلیک کردن بر روی تبلیغ برای انها خالی است  روی تبلیغ کلیک میکنند یا خیر**"
   ]
  },
  {
   "cell_type": "markdown",
   "metadata": {},
   "source": [
    "پس از هر قطعه کد توضیحات مربوط به آن در سلول بعدی آن نشان داده شده است\n",
    "="
   ]
  },
  {
   "cell_type": "markdown",
   "metadata": {},
   "source": [
    "بخش اول\n",
    "===\n",
    "tail() استفاده از تابع\n",
    "--"
   ]
  },
  {
   "cell_type": "code",
   "execution_count": 1,
   "metadata": {
    "scrolled": false
   },
   "outputs": [
    {
     "data": {
      "text/html": [
       "<div>\n",
       "<style scoped>\n",
       "    .dataframe tbody tr th:only-of-type {\n",
       "        vertical-align: middle;\n",
       "    }\n",
       "\n",
       "    .dataframe tbody tr th {\n",
       "        vertical-align: top;\n",
       "    }\n",
       "\n",
       "    .dataframe thead th {\n",
       "        text-align: right;\n",
       "    }\n",
       "</style>\n",
       "<table border=\"1\" class=\"dataframe\">\n",
       "  <thead>\n",
       "    <tr style=\"text-align: right;\">\n",
       "      <th></th>\n",
       "      <th>Unnamed: 0</th>\n",
       "      <th>Daily Time Spent on Site</th>\n",
       "      <th>Age</th>\n",
       "      <th>Area Income</th>\n",
       "      <th>Daily Internet Usage</th>\n",
       "      <th>Ad Topic Line</th>\n",
       "      <th>City</th>\n",
       "      <th>Gender</th>\n",
       "      <th>Country</th>\n",
       "      <th>Timestamp</th>\n",
       "      <th>Clicked on Ad</th>\n",
       "    </tr>\n",
       "  </thead>\n",
       "  <tbody>\n",
       "    <tr>\n",
       "      <th>995</th>\n",
       "      <td>995</td>\n",
       "      <td>72.97</td>\n",
       "      <td>30.0</td>\n",
       "      <td>71384.57</td>\n",
       "      <td>208.58</td>\n",
       "      <td>Fundamental modular algorithm</td>\n",
       "      <td>Duffystad</td>\n",
       "      <td>Male</td>\n",
       "      <td>Lebanon</td>\n",
       "      <td>2016-02-11 21:49:00</td>\n",
       "      <td>1.0</td>\n",
       "    </tr>\n",
       "    <tr>\n",
       "      <th>996</th>\n",
       "      <td>996</td>\n",
       "      <td>51.30</td>\n",
       "      <td>45.0</td>\n",
       "      <td>67782.17</td>\n",
       "      <td>134.42</td>\n",
       "      <td>Grass-roots cohesive monitoring</td>\n",
       "      <td>New Darlene</td>\n",
       "      <td>Male</td>\n",
       "      <td>Bosnia and Herzegovina</td>\n",
       "      <td>2016-04-22 02:07:01</td>\n",
       "      <td>1.0</td>\n",
       "    </tr>\n",
       "    <tr>\n",
       "      <th>997</th>\n",
       "      <td>997</td>\n",
       "      <td>51.63</td>\n",
       "      <td>51.0</td>\n",
       "      <td>42415.72</td>\n",
       "      <td>120.37</td>\n",
       "      <td>Expanded intangible solution</td>\n",
       "      <td>South Jessica</td>\n",
       "      <td>Male</td>\n",
       "      <td>Mongolia</td>\n",
       "      <td>2016-02-01 17:24:57</td>\n",
       "      <td>1.0</td>\n",
       "    </tr>\n",
       "    <tr>\n",
       "      <th>998</th>\n",
       "      <td>998</td>\n",
       "      <td>55.55</td>\n",
       "      <td>19.0</td>\n",
       "      <td>41920.79</td>\n",
       "      <td>187.95</td>\n",
       "      <td>Proactive bandwidth-monitored policy</td>\n",
       "      <td>West Steven</td>\n",
       "      <td>Female</td>\n",
       "      <td>Guatemala</td>\n",
       "      <td>2016-03-24 02:35:54</td>\n",
       "      <td>0.0</td>\n",
       "    </tr>\n",
       "    <tr>\n",
       "      <th>999</th>\n",
       "      <td>999</td>\n",
       "      <td>NaN</td>\n",
       "      <td>26.0</td>\n",
       "      <td>29875.80</td>\n",
       "      <td>178.35</td>\n",
       "      <td>Virtual 5thgeneration emulation</td>\n",
       "      <td>Ronniemouth</td>\n",
       "      <td>Female</td>\n",
       "      <td>Brazil</td>\n",
       "      <td>2016-06-03 21:43:21</td>\n",
       "      <td>1.0</td>\n",
       "    </tr>\n",
       "  </tbody>\n",
       "</table>\n",
       "</div>"
      ],
      "text/plain": [
       "     Unnamed: 0  Daily Time Spent on Site   Age  Area Income  \\\n",
       "995         995                     72.97  30.0     71384.57   \n",
       "996         996                     51.30  45.0     67782.17   \n",
       "997         997                     51.63  51.0     42415.72   \n",
       "998         998                     55.55  19.0     41920.79   \n",
       "999         999                       NaN  26.0     29875.80   \n",
       "\n",
       "     Daily Internet Usage                         Ad Topic Line  \\\n",
       "995                208.58         Fundamental modular algorithm   \n",
       "996                134.42       Grass-roots cohesive monitoring   \n",
       "997                120.37          Expanded intangible solution   \n",
       "998                187.95  Proactive bandwidth-monitored policy   \n",
       "999                178.35       Virtual 5thgeneration emulation   \n",
       "\n",
       "              City  Gender                 Country            Timestamp  \\\n",
       "995      Duffystad    Male                 Lebanon  2016-02-11 21:49:00   \n",
       "996    New Darlene    Male  Bosnia and Herzegovina  2016-04-22 02:07:01   \n",
       "997  South Jessica    Male                Mongolia  2016-02-01 17:24:57   \n",
       "998    West Steven  Female               Guatemala  2016-03-24 02:35:54   \n",
       "999    Ronniemouth  Female                  Brazil  2016-06-03 21:43:21   \n",
       "\n",
       "     Clicked on Ad  \n",
       "995            1.0  \n",
       "996            1.0  \n",
       "997            1.0  \n",
       "998            0.0  \n",
       "999            1.0  "
      ]
     },
     "execution_count": 1,
     "metadata": {},
     "output_type": "execute_result"
    }
   ],
   "source": [
    "import pandas as pd\n",
    "df = pd.read_csv('advertising_dataset.csv')\n",
    "df.tail()"
   ]
  },
  {
   "cell_type": "markdown",
   "metadata": {},
   "source": [
    "<strong>read_csv() با استفاده از تابع </strong>\n",
    "<br>\n",
    "<strong>داده های موجود در فایل را در یک دیتافرم ذخیره میکنیم </strong>\n",
    "<br>\n",
    "<strong>همانطور که مشاهده میشود این تابع 5 ردیف اخر داده ها را نشان میدهد</strong>\n"
   ]
  },
  {
   "cell_type": "code",
   "execution_count": 2,
   "metadata": {},
   "outputs": [
    {
     "data": {
      "text/html": [
       "<div>\n",
       "<style scoped>\n",
       "    .dataframe tbody tr th:only-of-type {\n",
       "        vertical-align: middle;\n",
       "    }\n",
       "\n",
       "    .dataframe tbody tr th {\n",
       "        vertical-align: top;\n",
       "    }\n",
       "\n",
       "    .dataframe thead th {\n",
       "        text-align: right;\n",
       "    }\n",
       "</style>\n",
       "<table border=\"1\" class=\"dataframe\">\n",
       "  <thead>\n",
       "    <tr style=\"text-align: right;\">\n",
       "      <th></th>\n",
       "      <th>Unnamed: 0</th>\n",
       "      <th>Daily Time Spent on Site</th>\n",
       "      <th>Age</th>\n",
       "      <th>Area Income</th>\n",
       "      <th>Daily Internet Usage</th>\n",
       "      <th>Ad Topic Line</th>\n",
       "      <th>City</th>\n",
       "      <th>Gender</th>\n",
       "      <th>Country</th>\n",
       "      <th>Timestamp</th>\n",
       "      <th>Clicked on Ad</th>\n",
       "    </tr>\n",
       "  </thead>\n",
       "  <tbody>\n",
       "    <tr>\n",
       "      <th>998</th>\n",
       "      <td>998</td>\n",
       "      <td>55.55</td>\n",
       "      <td>19.0</td>\n",
       "      <td>41920.79</td>\n",
       "      <td>187.95</td>\n",
       "      <td>Proactive bandwidth-monitored policy</td>\n",
       "      <td>West Steven</td>\n",
       "      <td>Female</td>\n",
       "      <td>Guatemala</td>\n",
       "      <td>2016-03-24 02:35:54</td>\n",
       "      <td>0.0</td>\n",
       "    </tr>\n",
       "    <tr>\n",
       "      <th>999</th>\n",
       "      <td>999</td>\n",
       "      <td>NaN</td>\n",
       "      <td>26.0</td>\n",
       "      <td>29875.80</td>\n",
       "      <td>178.35</td>\n",
       "      <td>Virtual 5thgeneration emulation</td>\n",
       "      <td>Ronniemouth</td>\n",
       "      <td>Female</td>\n",
       "      <td>Brazil</td>\n",
       "      <td>2016-06-03 21:43:21</td>\n",
       "      <td>1.0</td>\n",
       "    </tr>\n",
       "  </tbody>\n",
       "</table>\n",
       "</div>"
      ],
      "text/plain": [
       "     Unnamed: 0  Daily Time Spent on Site   Age  Area Income  \\\n",
       "998         998                     55.55  19.0     41920.79   \n",
       "999         999                       NaN  26.0     29875.80   \n",
       "\n",
       "     Daily Internet Usage                         Ad Topic Line         City  \\\n",
       "998                187.95  Proactive bandwidth-monitored policy  West Steven   \n",
       "999                178.35       Virtual 5thgeneration emulation  Ronniemouth   \n",
       "\n",
       "     Gender    Country            Timestamp  Clicked on Ad  \n",
       "998  Female  Guatemala  2016-03-24 02:35:54            0.0  \n",
       "999  Female     Brazil  2016-06-03 21:43:21            1.0  "
      ]
     },
     "execution_count": 2,
     "metadata": {},
     "output_type": "execute_result"
    }
   ],
   "source": [
    "df.tail(2)"
   ]
  },
  {
   "cell_type": "markdown",
   "metadata": {},
   "source": [
    "<br>\n",
    "<strong> این تابع میتواند ورودی داشته باشد که به تعداد ورودی ردیف های اخر داده را نشان میدهد و به طور پیش فرض برابر 5 است</strong>\n",
    "<br>\n",
    "<br>\n"
   ]
  },
  {
   "cell_type": "markdown",
   "metadata": {},
   "source": [
    "head() استفاده از تابع\n",
    "--"
   ]
  },
  {
   "cell_type": "code",
   "execution_count": 3,
   "metadata": {
    "scrolled": false
   },
   "outputs": [
    {
     "data": {
      "text/html": [
       "<div>\n",
       "<style scoped>\n",
       "    .dataframe tbody tr th:only-of-type {\n",
       "        vertical-align: middle;\n",
       "    }\n",
       "\n",
       "    .dataframe tbody tr th {\n",
       "        vertical-align: top;\n",
       "    }\n",
       "\n",
       "    .dataframe thead th {\n",
       "        text-align: right;\n",
       "    }\n",
       "</style>\n",
       "<table border=\"1\" class=\"dataframe\">\n",
       "  <thead>\n",
       "    <tr style=\"text-align: right;\">\n",
       "      <th></th>\n",
       "      <th>Unnamed: 0</th>\n",
       "      <th>Daily Time Spent on Site</th>\n",
       "      <th>Age</th>\n",
       "      <th>Area Income</th>\n",
       "      <th>Daily Internet Usage</th>\n",
       "      <th>Ad Topic Line</th>\n",
       "      <th>City</th>\n",
       "      <th>Gender</th>\n",
       "      <th>Country</th>\n",
       "      <th>Timestamp</th>\n",
       "      <th>Clicked on Ad</th>\n",
       "    </tr>\n",
       "  </thead>\n",
       "  <tbody>\n",
       "    <tr>\n",
       "      <th>0</th>\n",
       "      <td>0</td>\n",
       "      <td>68.95</td>\n",
       "      <td>35.0</td>\n",
       "      <td>61833.90</td>\n",
       "      <td>256.09</td>\n",
       "      <td>Cloned 5thgeneration orchestration</td>\n",
       "      <td>Wrightburgh</td>\n",
       "      <td>Female</td>\n",
       "      <td>Tunisia</td>\n",
       "      <td>2016-03-27 00:53:11</td>\n",
       "      <td>0.0</td>\n",
       "    </tr>\n",
       "    <tr>\n",
       "      <th>1</th>\n",
       "      <td>1</td>\n",
       "      <td>80.23</td>\n",
       "      <td>31.0</td>\n",
       "      <td>68441.85</td>\n",
       "      <td>NaN</td>\n",
       "      <td>Monitored national standardization</td>\n",
       "      <td>West Jodi</td>\n",
       "      <td>Male</td>\n",
       "      <td>Nauru</td>\n",
       "      <td>2016-04-04 01:39:02</td>\n",
       "      <td>0.0</td>\n",
       "    </tr>\n",
       "    <tr>\n",
       "      <th>2</th>\n",
       "      <td>2</td>\n",
       "      <td>69.47</td>\n",
       "      <td>26.0</td>\n",
       "      <td>59785.94</td>\n",
       "      <td>236.50</td>\n",
       "      <td>Organic bottom-line service-desk</td>\n",
       "      <td>Davidton</td>\n",
       "      <td>Female</td>\n",
       "      <td>San Marino</td>\n",
       "      <td>2016-03-13 20:35:42</td>\n",
       "      <td>0.0</td>\n",
       "    </tr>\n",
       "    <tr>\n",
       "      <th>3</th>\n",
       "      <td>3</td>\n",
       "      <td>74.15</td>\n",
       "      <td>29.0</td>\n",
       "      <td>54806.18</td>\n",
       "      <td>245.89</td>\n",
       "      <td>Triple-buffered reciprocal time-frame</td>\n",
       "      <td>West Terrifurt</td>\n",
       "      <td>Male</td>\n",
       "      <td>Italy</td>\n",
       "      <td>2016-01-10 02:31:19</td>\n",
       "      <td>0.0</td>\n",
       "    </tr>\n",
       "    <tr>\n",
       "      <th>4</th>\n",
       "      <td>4</td>\n",
       "      <td>68.37</td>\n",
       "      <td>35.0</td>\n",
       "      <td>73889.99</td>\n",
       "      <td>225.58</td>\n",
       "      <td>Robust logistical utilization</td>\n",
       "      <td>South Manuel</td>\n",
       "      <td>Female</td>\n",
       "      <td>Iceland</td>\n",
       "      <td>2016-06-03 03:36:18</td>\n",
       "      <td>0.0</td>\n",
       "    </tr>\n",
       "  </tbody>\n",
       "</table>\n",
       "</div>"
      ],
      "text/plain": [
       "   Unnamed: 0  Daily Time Spent on Site   Age  Area Income  \\\n",
       "0           0                     68.95  35.0     61833.90   \n",
       "1           1                     80.23  31.0     68441.85   \n",
       "2           2                     69.47  26.0     59785.94   \n",
       "3           3                     74.15  29.0     54806.18   \n",
       "4           4                     68.37  35.0     73889.99   \n",
       "\n",
       "   Daily Internet Usage                          Ad Topic Line  \\\n",
       "0                256.09     Cloned 5thgeneration orchestration   \n",
       "1                   NaN     Monitored national standardization   \n",
       "2                236.50       Organic bottom-line service-desk   \n",
       "3                245.89  Triple-buffered reciprocal time-frame   \n",
       "4                225.58          Robust logistical utilization   \n",
       "\n",
       "             City  Gender     Country            Timestamp  Clicked on Ad  \n",
       "0     Wrightburgh  Female     Tunisia  2016-03-27 00:53:11            0.0  \n",
       "1       West Jodi    Male       Nauru  2016-04-04 01:39:02            0.0  \n",
       "2        Davidton  Female  San Marino  2016-03-13 20:35:42            0.0  \n",
       "3  West Terrifurt    Male       Italy  2016-01-10 02:31:19            0.0  \n",
       "4    South Manuel  Female     Iceland  2016-06-03 03:36:18            0.0  "
      ]
     },
     "execution_count": 3,
     "metadata": {},
     "output_type": "execute_result"
    }
   ],
   "source": [
    "df.head()"
   ]
  },
  {
   "cell_type": "markdown",
   "metadata": {},
   "source": [
    "\n",
    "<br>\n",
    "<strong> مشاهده میشود این تابع 5 ردیف اول داده ها را نشان میدهد</strong>\n"
   ]
  },
  {
   "cell_type": "code",
   "execution_count": 4,
   "metadata": {},
   "outputs": [
    {
     "data": {
      "text/html": [
       "<div>\n",
       "<style scoped>\n",
       "    .dataframe tbody tr th:only-of-type {\n",
       "        vertical-align: middle;\n",
       "    }\n",
       "\n",
       "    .dataframe tbody tr th {\n",
       "        vertical-align: top;\n",
       "    }\n",
       "\n",
       "    .dataframe thead th {\n",
       "        text-align: right;\n",
       "    }\n",
       "</style>\n",
       "<table border=\"1\" class=\"dataframe\">\n",
       "  <thead>\n",
       "    <tr style=\"text-align: right;\">\n",
       "      <th></th>\n",
       "      <th>Unnamed: 0</th>\n",
       "      <th>Daily Time Spent on Site</th>\n",
       "      <th>Age</th>\n",
       "      <th>Area Income</th>\n",
       "      <th>Daily Internet Usage</th>\n",
       "      <th>Ad Topic Line</th>\n",
       "      <th>City</th>\n",
       "      <th>Gender</th>\n",
       "      <th>Country</th>\n",
       "      <th>Timestamp</th>\n",
       "      <th>Clicked on Ad</th>\n",
       "    </tr>\n",
       "  </thead>\n",
       "  <tbody>\n",
       "    <tr>\n",
       "      <th>0</th>\n",
       "      <td>0</td>\n",
       "      <td>68.95</td>\n",
       "      <td>35.0</td>\n",
       "      <td>61833.90</td>\n",
       "      <td>256.09</td>\n",
       "      <td>Cloned 5thgeneration orchestration</td>\n",
       "      <td>Wrightburgh</td>\n",
       "      <td>Female</td>\n",
       "      <td>Tunisia</td>\n",
       "      <td>2016-03-27 00:53:11</td>\n",
       "      <td>0.0</td>\n",
       "    </tr>\n",
       "    <tr>\n",
       "      <th>1</th>\n",
       "      <td>1</td>\n",
       "      <td>80.23</td>\n",
       "      <td>31.0</td>\n",
       "      <td>68441.85</td>\n",
       "      <td>NaN</td>\n",
       "      <td>Monitored national standardization</td>\n",
       "      <td>West Jodi</td>\n",
       "      <td>Male</td>\n",
       "      <td>Nauru</td>\n",
       "      <td>2016-04-04 01:39:02</td>\n",
       "      <td>0.0</td>\n",
       "    </tr>\n",
       "  </tbody>\n",
       "</table>\n",
       "</div>"
      ],
      "text/plain": [
       "   Unnamed: 0  Daily Time Spent on Site   Age  Area Income  \\\n",
       "0           0                     68.95  35.0     61833.90   \n",
       "1           1                     80.23  31.0     68441.85   \n",
       "\n",
       "   Daily Internet Usage                       Ad Topic Line         City  \\\n",
       "0                256.09  Cloned 5thgeneration orchestration  Wrightburgh   \n",
       "1                   NaN  Monitored national standardization    West Jodi   \n",
       "\n",
       "   Gender  Country            Timestamp  Clicked on Ad  \n",
       "0  Female  Tunisia  2016-03-27 00:53:11            0.0  \n",
       "1    Male    Nauru  2016-04-04 01:39:02            0.0  "
      ]
     },
     "execution_count": 4,
     "metadata": {},
     "output_type": "execute_result"
    }
   ],
   "source": [
    "df.head(2)"
   ]
  },
  {
   "cell_type": "markdown",
   "metadata": {},
   "source": [
    "<br>\n",
    "<strong> این تابع نیز میتواند ورودی داشته باشد که به تعداد ورودی ردیف های اول داده را نشان میدهد و به طور پیش فرض برابر 5 است</strong>\n",
    "<br>\n",
    "<br>\n"
   ]
  },
  {
   "cell_type": "markdown",
   "metadata": {},
   "source": [
    "describe() استفاده از تابع\n",
    "--"
   ]
  },
  {
   "cell_type": "code",
   "execution_count": 5,
   "metadata": {},
   "outputs": [
    {
     "data": {
      "text/html": [
       "<div>\n",
       "<style scoped>\n",
       "    .dataframe tbody tr th:only-of-type {\n",
       "        vertical-align: middle;\n",
       "    }\n",
       "\n",
       "    .dataframe tbody tr th {\n",
       "        vertical-align: top;\n",
       "    }\n",
       "\n",
       "    .dataframe thead th {\n",
       "        text-align: right;\n",
       "    }\n",
       "</style>\n",
       "<table border=\"1\" class=\"dataframe\">\n",
       "  <thead>\n",
       "    <tr style=\"text-align: right;\">\n",
       "      <th></th>\n",
       "      <th>Unnamed: 0</th>\n",
       "      <th>Daily Time Spent on Site</th>\n",
       "      <th>Age</th>\n",
       "      <th>Area Income</th>\n",
       "      <th>Daily Internet Usage</th>\n",
       "      <th>Clicked on Ad</th>\n",
       "    </tr>\n",
       "  </thead>\n",
       "  <tbody>\n",
       "    <tr>\n",
       "      <th>count</th>\n",
       "      <td>1000.000000</td>\n",
       "      <td>907.000000</td>\n",
       "      <td>979.000000</td>\n",
       "      <td>1000.000000</td>\n",
       "      <td>913.000000</td>\n",
       "      <td>832.000000</td>\n",
       "    </tr>\n",
       "    <tr>\n",
       "      <th>mean</th>\n",
       "      <td>499.500000</td>\n",
       "      <td>64.794818</td>\n",
       "      <td>36.009193</td>\n",
       "      <td>55000.000080</td>\n",
       "      <td>179.751271</td>\n",
       "      <td>0.496394</td>\n",
       "    </tr>\n",
       "    <tr>\n",
       "      <th>std</th>\n",
       "      <td>288.819436</td>\n",
       "      <td>15.954841</td>\n",
       "      <td>8.783636</td>\n",
       "      <td>13414.634022</td>\n",
       "      <td>43.957934</td>\n",
       "      <td>0.500288</td>\n",
       "    </tr>\n",
       "    <tr>\n",
       "      <th>min</th>\n",
       "      <td>0.000000</td>\n",
       "      <td>32.600000</td>\n",
       "      <td>19.000000</td>\n",
       "      <td>13996.500000</td>\n",
       "      <td>104.780000</td>\n",
       "      <td>0.000000</td>\n",
       "    </tr>\n",
       "    <tr>\n",
       "      <th>25%</th>\n",
       "      <td>249.750000</td>\n",
       "      <td>50.615000</td>\n",
       "      <td>29.000000</td>\n",
       "      <td>47031.802500</td>\n",
       "      <td>138.550000</td>\n",
       "      <td>0.000000</td>\n",
       "    </tr>\n",
       "    <tr>\n",
       "      <th>50%</th>\n",
       "      <td>499.500000</td>\n",
       "      <td>67.940000</td>\n",
       "      <td>35.000000</td>\n",
       "      <td>57012.300000</td>\n",
       "      <td>183.480000</td>\n",
       "      <td>0.000000</td>\n",
       "    </tr>\n",
       "    <tr>\n",
       "      <th>75%</th>\n",
       "      <td>749.250000</td>\n",
       "      <td>78.555000</td>\n",
       "      <td>42.000000</td>\n",
       "      <td>65470.635000</td>\n",
       "      <td>217.850000</td>\n",
       "      <td>1.000000</td>\n",
       "    </tr>\n",
       "    <tr>\n",
       "      <th>max</th>\n",
       "      <td>999.000000</td>\n",
       "      <td>91.430000</td>\n",
       "      <td>61.000000</td>\n",
       "      <td>79484.800000</td>\n",
       "      <td>269.960000</td>\n",
       "      <td>1.000000</td>\n",
       "    </tr>\n",
       "  </tbody>\n",
       "</table>\n",
       "</div>"
      ],
      "text/plain": [
       "        Unnamed: 0  Daily Time Spent on Site         Age   Area Income  \\\n",
       "count  1000.000000                907.000000  979.000000   1000.000000   \n",
       "mean    499.500000                 64.794818   36.009193  55000.000080   \n",
       "std     288.819436                 15.954841    8.783636  13414.634022   \n",
       "min       0.000000                 32.600000   19.000000  13996.500000   \n",
       "25%     249.750000                 50.615000   29.000000  47031.802500   \n",
       "50%     499.500000                 67.940000   35.000000  57012.300000   \n",
       "75%     749.250000                 78.555000   42.000000  65470.635000   \n",
       "max     999.000000                 91.430000   61.000000  79484.800000   \n",
       "\n",
       "       Daily Internet Usage  Clicked on Ad  \n",
       "count            913.000000     832.000000  \n",
       "mean             179.751271       0.496394  \n",
       "std               43.957934       0.500288  \n",
       "min              104.780000       0.000000  \n",
       "25%              138.550000       0.000000  \n",
       "50%              183.480000       0.000000  \n",
       "75%              217.850000       1.000000  \n",
       "max              269.960000       1.000000  "
      ]
     },
     "execution_count": 5,
     "metadata": {},
     "output_type": "execute_result"
    }
   ],
   "source": [
    "df.describe()"
   ]
  },
  {
   "cell_type": "markdown",
   "metadata": {},
   "source": [
    "<strong>این تابع برای هر ستون مقادیری مانند تعداد، میانگین، انحراف معیار، کوچکترین  مقدار، بزرگترین مقدار و صدک های پایینی، میانی و بالایی را نشان میدهد </strong>\n",
    "<br>\n",
    "<strong>به طور پیش فرض صدک پایینی برابر 25 و صدک بالایی برابر 75 است </strong>\n",
    "<br>\n",
    "<strong> صدک میانی همان میانه است </strong>"
   ]
  },
  {
   "cell_type": "markdown",
   "metadata": {},
   "source": [
    "بخش دوم\n",
    "===\n",
    "info() استفاده از تابع\n",
    "--"
   ]
  },
  {
   "cell_type": "code",
   "execution_count": 6,
   "metadata": {},
   "outputs": [
    {
     "name": "stdout",
     "output_type": "stream",
     "text": [
      "<class 'pandas.core.frame.DataFrame'>\n",
      "RangeIndex: 1000 entries, 0 to 999\n",
      "Data columns (total 11 columns):\n",
      " #   Column                    Non-Null Count  Dtype  \n",
      "---  ------                    --------------  -----  \n",
      " 0   Unnamed: 0                1000 non-null   int64  \n",
      " 1   Daily Time Spent on Site  907 non-null    float64\n",
      " 2   Age                       979 non-null    float64\n",
      " 3   Area Income               1000 non-null   float64\n",
      " 4   Daily Internet Usage      913 non-null    float64\n",
      " 5   Ad Topic Line             1000 non-null   object \n",
      " 6   City                      1000 non-null   object \n",
      " 7   Gender                    1000 non-null   object \n",
      " 8   Country                   1000 non-null   object \n",
      " 9   Timestamp                 1000 non-null   object \n",
      " 10  Clicked on Ad             832 non-null    float64\n",
      "dtypes: float64(5), int64(1), object(5)\n",
      "memory usage: 66.5+ KB\n"
     ]
    }
   ],
   "source": [
    "df.info()"
   ]
  },
  {
   "cell_type": "markdown",
   "metadata": {},
   "source": [
    "<strong>مشاهده میشود که برای هر ستون تعداد مقادیری که ستون انها خالی نیست و نوع داده ای آنها و میزان حافظه ی مصرفی را نشان میدهد</strong>"
   ]
  },
  {
   "cell_type": "markdown",
   "metadata": {},
   "source": [
    "برچسب گذاری\n",
    "=\n",
    "<strong>categorial در بسیاری از داده هایی که در اختیار ما قراره داده میشود ممکن است در دیتاست ما داده هایی با نوع </strong>\n",
    "<br>\n",
    "<strong> وجود دارد که با کلمه یا حرف نشان داده میشوند و سعی ما بر این است که این نوع داده ها را به داده عددی تبدیل کنیم </strong>"
   ]
  },
  {
   "cell_type": "code",
   "execution_count": 7,
   "metadata": {},
   "outputs": [
    {
     "data": {
      "text/html": [
       "<div>\n",
       "<style scoped>\n",
       "    .dataframe tbody tr th:only-of-type {\n",
       "        vertical-align: middle;\n",
       "    }\n",
       "\n",
       "    .dataframe tbody tr th {\n",
       "        vertical-align: top;\n",
       "    }\n",
       "\n",
       "    .dataframe thead th {\n",
       "        text-align: right;\n",
       "    }\n",
       "</style>\n",
       "<table border=\"1\" class=\"dataframe\">\n",
       "  <thead>\n",
       "    <tr style=\"text-align: right;\">\n",
       "      <th></th>\n",
       "      <th>Unnamed: 0</th>\n",
       "      <th>Daily Time Spent on Site</th>\n",
       "      <th>Age</th>\n",
       "      <th>Area Income</th>\n",
       "      <th>Daily Internet Usage</th>\n",
       "      <th>Ad Topic Line</th>\n",
       "      <th>City</th>\n",
       "      <th>Gender</th>\n",
       "      <th>Country</th>\n",
       "      <th>Timestamp</th>\n",
       "      <th>Clicked on Ad</th>\n",
       "    </tr>\n",
       "  </thead>\n",
       "  <tbody>\n",
       "    <tr>\n",
       "      <th>0</th>\n",
       "      <td>0</td>\n",
       "      <td>68.95</td>\n",
       "      <td>35.0</td>\n",
       "      <td>61833.90</td>\n",
       "      <td>256.09</td>\n",
       "      <td>Cloned 5thgeneration orchestration</td>\n",
       "      <td>Wrightburgh</td>\n",
       "      <td>0</td>\n",
       "      <td>Tunisia</td>\n",
       "      <td>2016-03-27 00:53:11</td>\n",
       "      <td>0.0</td>\n",
       "    </tr>\n",
       "    <tr>\n",
       "      <th>1</th>\n",
       "      <td>1</td>\n",
       "      <td>80.23</td>\n",
       "      <td>31.0</td>\n",
       "      <td>68441.85</td>\n",
       "      <td>NaN</td>\n",
       "      <td>Monitored national standardization</td>\n",
       "      <td>West Jodi</td>\n",
       "      <td>1</td>\n",
       "      <td>Nauru</td>\n",
       "      <td>2016-04-04 01:39:02</td>\n",
       "      <td>0.0</td>\n",
       "    </tr>\n",
       "    <tr>\n",
       "      <th>2</th>\n",
       "      <td>2</td>\n",
       "      <td>69.47</td>\n",
       "      <td>26.0</td>\n",
       "      <td>59785.94</td>\n",
       "      <td>236.50</td>\n",
       "      <td>Organic bottom-line service-desk</td>\n",
       "      <td>Davidton</td>\n",
       "      <td>0</td>\n",
       "      <td>San Marino</td>\n",
       "      <td>2016-03-13 20:35:42</td>\n",
       "      <td>0.0</td>\n",
       "    </tr>\n",
       "    <tr>\n",
       "      <th>3</th>\n",
       "      <td>3</td>\n",
       "      <td>74.15</td>\n",
       "      <td>29.0</td>\n",
       "      <td>54806.18</td>\n",
       "      <td>245.89</td>\n",
       "      <td>Triple-buffered reciprocal time-frame</td>\n",
       "      <td>West Terrifurt</td>\n",
       "      <td>1</td>\n",
       "      <td>Italy</td>\n",
       "      <td>2016-01-10 02:31:19</td>\n",
       "      <td>0.0</td>\n",
       "    </tr>\n",
       "    <tr>\n",
       "      <th>4</th>\n",
       "      <td>4</td>\n",
       "      <td>68.37</td>\n",
       "      <td>35.0</td>\n",
       "      <td>73889.99</td>\n",
       "      <td>225.58</td>\n",
       "      <td>Robust logistical utilization</td>\n",
       "      <td>South Manuel</td>\n",
       "      <td>0</td>\n",
       "      <td>Iceland</td>\n",
       "      <td>2016-06-03 03:36:18</td>\n",
       "      <td>0.0</td>\n",
       "    </tr>\n",
       "    <tr>\n",
       "      <th>...</th>\n",
       "      <td>...</td>\n",
       "      <td>...</td>\n",
       "      <td>...</td>\n",
       "      <td>...</td>\n",
       "      <td>...</td>\n",
       "      <td>...</td>\n",
       "      <td>...</td>\n",
       "      <td>...</td>\n",
       "      <td>...</td>\n",
       "      <td>...</td>\n",
       "      <td>...</td>\n",
       "    </tr>\n",
       "    <tr>\n",
       "      <th>995</th>\n",
       "      <td>995</td>\n",
       "      <td>72.97</td>\n",
       "      <td>30.0</td>\n",
       "      <td>71384.57</td>\n",
       "      <td>208.58</td>\n",
       "      <td>Fundamental modular algorithm</td>\n",
       "      <td>Duffystad</td>\n",
       "      <td>1</td>\n",
       "      <td>Lebanon</td>\n",
       "      <td>2016-02-11 21:49:00</td>\n",
       "      <td>1.0</td>\n",
       "    </tr>\n",
       "    <tr>\n",
       "      <th>996</th>\n",
       "      <td>996</td>\n",
       "      <td>51.30</td>\n",
       "      <td>45.0</td>\n",
       "      <td>67782.17</td>\n",
       "      <td>134.42</td>\n",
       "      <td>Grass-roots cohesive monitoring</td>\n",
       "      <td>New Darlene</td>\n",
       "      <td>1</td>\n",
       "      <td>Bosnia and Herzegovina</td>\n",
       "      <td>2016-04-22 02:07:01</td>\n",
       "      <td>1.0</td>\n",
       "    </tr>\n",
       "    <tr>\n",
       "      <th>997</th>\n",
       "      <td>997</td>\n",
       "      <td>51.63</td>\n",
       "      <td>51.0</td>\n",
       "      <td>42415.72</td>\n",
       "      <td>120.37</td>\n",
       "      <td>Expanded intangible solution</td>\n",
       "      <td>South Jessica</td>\n",
       "      <td>1</td>\n",
       "      <td>Mongolia</td>\n",
       "      <td>2016-02-01 17:24:57</td>\n",
       "      <td>1.0</td>\n",
       "    </tr>\n",
       "    <tr>\n",
       "      <th>998</th>\n",
       "      <td>998</td>\n",
       "      <td>55.55</td>\n",
       "      <td>19.0</td>\n",
       "      <td>41920.79</td>\n",
       "      <td>187.95</td>\n",
       "      <td>Proactive bandwidth-monitored policy</td>\n",
       "      <td>West Steven</td>\n",
       "      <td>0</td>\n",
       "      <td>Guatemala</td>\n",
       "      <td>2016-03-24 02:35:54</td>\n",
       "      <td>0.0</td>\n",
       "    </tr>\n",
       "    <tr>\n",
       "      <th>999</th>\n",
       "      <td>999</td>\n",
       "      <td>NaN</td>\n",
       "      <td>26.0</td>\n",
       "      <td>29875.80</td>\n",
       "      <td>178.35</td>\n",
       "      <td>Virtual 5thgeneration emulation</td>\n",
       "      <td>Ronniemouth</td>\n",
       "      <td>0</td>\n",
       "      <td>Brazil</td>\n",
       "      <td>2016-06-03 21:43:21</td>\n",
       "      <td>1.0</td>\n",
       "    </tr>\n",
       "  </tbody>\n",
       "</table>\n",
       "<p>1000 rows × 11 columns</p>\n",
       "</div>"
      ],
      "text/plain": [
       "     Unnamed: 0  Daily Time Spent on Site   Age  Area Income  \\\n",
       "0             0                     68.95  35.0     61833.90   \n",
       "1             1                     80.23  31.0     68441.85   \n",
       "2             2                     69.47  26.0     59785.94   \n",
       "3             3                     74.15  29.0     54806.18   \n",
       "4             4                     68.37  35.0     73889.99   \n",
       "..          ...                       ...   ...          ...   \n",
       "995         995                     72.97  30.0     71384.57   \n",
       "996         996                     51.30  45.0     67782.17   \n",
       "997         997                     51.63  51.0     42415.72   \n",
       "998         998                     55.55  19.0     41920.79   \n",
       "999         999                       NaN  26.0     29875.80   \n",
       "\n",
       "     Daily Internet Usage                          Ad Topic Line  \\\n",
       "0                  256.09     Cloned 5thgeneration orchestration   \n",
       "1                     NaN     Monitored national standardization   \n",
       "2                  236.50       Organic bottom-line service-desk   \n",
       "3                  245.89  Triple-buffered reciprocal time-frame   \n",
       "4                  225.58          Robust logistical utilization   \n",
       "..                    ...                                    ...   \n",
       "995                208.58          Fundamental modular algorithm   \n",
       "996                134.42        Grass-roots cohesive monitoring   \n",
       "997                120.37           Expanded intangible solution   \n",
       "998                187.95   Proactive bandwidth-monitored policy   \n",
       "999                178.35        Virtual 5thgeneration emulation   \n",
       "\n",
       "               City  Gender                 Country            Timestamp  \\\n",
       "0       Wrightburgh       0                 Tunisia  2016-03-27 00:53:11   \n",
       "1         West Jodi       1                   Nauru  2016-04-04 01:39:02   \n",
       "2          Davidton       0              San Marino  2016-03-13 20:35:42   \n",
       "3    West Terrifurt       1                   Italy  2016-01-10 02:31:19   \n",
       "4      South Manuel       0                 Iceland  2016-06-03 03:36:18   \n",
       "..              ...     ...                     ...                  ...   \n",
       "995       Duffystad       1                 Lebanon  2016-02-11 21:49:00   \n",
       "996     New Darlene       1  Bosnia and Herzegovina  2016-04-22 02:07:01   \n",
       "997   South Jessica       1                Mongolia  2016-02-01 17:24:57   \n",
       "998     West Steven       0               Guatemala  2016-03-24 02:35:54   \n",
       "999     Ronniemouth       0                  Brazil  2016-06-03 21:43:21   \n",
       "\n",
       "     Clicked on Ad  \n",
       "0              0.0  \n",
       "1              0.0  \n",
       "2              0.0  \n",
       "3              0.0  \n",
       "4              0.0  \n",
       "..             ...  \n",
       "995            1.0  \n",
       "996            1.0  \n",
       "997            1.0  \n",
       "998            0.0  \n",
       "999            1.0  \n",
       "\n",
       "[1000 rows x 11 columns]"
      ]
     },
     "execution_count": 7,
     "metadata": {},
     "output_type": "execute_result"
    }
   ],
   "source": [
    "new_dic = {\"Gender\" : {\"Male\" : 1, \"Female\" : 0}}\n",
    "df.replace(new_dic, inplace = True)\n",
    "df"
   ]
  },
  {
   "cell_type": "markdown",
   "metadata": {},
   "source": [
    "<strong>مقادیر مرد = 1 و زن = 0 تعریف شده است gender برای این کار ابتدا یک دیکشنری تعریف میکنیم که برای ستون </strong>\n",
    "<br>\n",
    "<strong>replace()با استفاده از تابع </strong>\n",
    "<br>\n",
    "<strong>مقادیر ستون جنسیت را در صورتی که مرد باشد با مقدار 1 و اگر زن باشد با مقدار 0 جایگزین میکنیم </strong>\n",
    "<br>\n",
    "<strong> inplace = True </strong>\n",
    "<br>\n",
    "<strong> نشان میدهد که مقادیر درجا تغییر داده شوند به این معنی که در خود دیتا فرم این اتفاق بیفتد</strong>"
   ]
  },
  {
   "cell_type": "markdown",
   "metadata": {},
   "source": [
    "بخش سوم\n",
    "=\n",
    "تعداد سطر های خالی برای هر ستون\n",
    "--"
   ]
  },
  {
   "cell_type": "code",
   "execution_count": 8,
   "metadata": {},
   "outputs": [
    {
     "data": {
      "text/plain": [
       "Unnamed: 0                    0\n",
       "Daily Time Spent on Site     93\n",
       "Age                          21\n",
       "Area Income                   0\n",
       "Daily Internet Usage         87\n",
       "Ad Topic Line                 0\n",
       "City                          0\n",
       "Gender                        0\n",
       "Country                       0\n",
       "Timestamp                     0\n",
       "Clicked on Ad               168\n",
       "dtype: int64"
      ]
     },
     "execution_count": 8,
     "metadata": {},
     "output_type": "execute_result"
    }
   ],
   "source": [
    "df.isna().sum()"
   ]
  },
  {
   "cell_type": "markdown",
   "metadata": {},
   "source": [
    "<strong> isna()</strong>\n",
    "<br>\n",
    "<strong>قرار میدهد False و در غیر اینصورت جای آن True مشخص میکند که در صورتی که سطری خالی باشد جای آن </strong>\n",
    "<br>\n",
    "<strong>isna().sum()</strong>\n",
    "<br>\n",
    "<strong>برای هر ستون را میشمارد و در خروجی نشان میدهد True پس از انجام عمل بالا تعداد مقادیر </strong>\n",
    "<br>"
   ]
  },
  {
   "cell_type": "markdown",
   "metadata": {},
   "source": [
    "<strong> میتوان با داده های خالی طوری رفتار کرد که وجود ندارند و آنهارا در نظر نگیریم اما در این تمرین میخواهیم سطر های خالی را با میانگین آن ستون پر کنیم </strong>"
   ]
  },
  {
   "cell_type": "code",
   "execution_count": 9,
   "metadata": {
    "scrolled": true
   },
   "outputs": [
    {
     "data": {
      "text/html": [
       "<div>\n",
       "<style scoped>\n",
       "    .dataframe tbody tr th:only-of-type {\n",
       "        vertical-align: middle;\n",
       "    }\n",
       "\n",
       "    .dataframe tbody tr th {\n",
       "        vertical-align: top;\n",
       "    }\n",
       "\n",
       "    .dataframe thead th {\n",
       "        text-align: right;\n",
       "    }\n",
       "</style>\n",
       "<table border=\"1\" class=\"dataframe\">\n",
       "  <thead>\n",
       "    <tr style=\"text-align: right;\">\n",
       "      <th></th>\n",
       "      <th>Unnamed: 0</th>\n",
       "      <th>Daily Time Spent on Site</th>\n",
       "      <th>Age</th>\n",
       "      <th>Area Income</th>\n",
       "      <th>Daily Internet Usage</th>\n",
       "      <th>Ad Topic Line</th>\n",
       "      <th>City</th>\n",
       "      <th>Gender</th>\n",
       "      <th>Country</th>\n",
       "      <th>Timestamp</th>\n",
       "      <th>Clicked on Ad</th>\n",
       "    </tr>\n",
       "  </thead>\n",
       "  <tbody>\n",
       "    <tr>\n",
       "      <th>0</th>\n",
       "      <td>0</td>\n",
       "      <td>68.950000</td>\n",
       "      <td>35.0</td>\n",
       "      <td>61833.90</td>\n",
       "      <td>256.090000</td>\n",
       "      <td>Cloned 5thgeneration orchestration</td>\n",
       "      <td>Wrightburgh</td>\n",
       "      <td>0</td>\n",
       "      <td>Tunisia</td>\n",
       "      <td>2016-03-27 00:53:11</td>\n",
       "      <td>0.0</td>\n",
       "    </tr>\n",
       "    <tr>\n",
       "      <th>1</th>\n",
       "      <td>1</td>\n",
       "      <td>80.230000</td>\n",
       "      <td>31.0</td>\n",
       "      <td>68441.85</td>\n",
       "      <td>179.751271</td>\n",
       "      <td>Monitored national standardization</td>\n",
       "      <td>West Jodi</td>\n",
       "      <td>1</td>\n",
       "      <td>Nauru</td>\n",
       "      <td>2016-04-04 01:39:02</td>\n",
       "      <td>0.0</td>\n",
       "    </tr>\n",
       "    <tr>\n",
       "      <th>2</th>\n",
       "      <td>2</td>\n",
       "      <td>69.470000</td>\n",
       "      <td>26.0</td>\n",
       "      <td>59785.94</td>\n",
       "      <td>236.500000</td>\n",
       "      <td>Organic bottom-line service-desk</td>\n",
       "      <td>Davidton</td>\n",
       "      <td>0</td>\n",
       "      <td>San Marino</td>\n",
       "      <td>2016-03-13 20:35:42</td>\n",
       "      <td>0.0</td>\n",
       "    </tr>\n",
       "    <tr>\n",
       "      <th>3</th>\n",
       "      <td>3</td>\n",
       "      <td>74.150000</td>\n",
       "      <td>29.0</td>\n",
       "      <td>54806.18</td>\n",
       "      <td>245.890000</td>\n",
       "      <td>Triple-buffered reciprocal time-frame</td>\n",
       "      <td>West Terrifurt</td>\n",
       "      <td>1</td>\n",
       "      <td>Italy</td>\n",
       "      <td>2016-01-10 02:31:19</td>\n",
       "      <td>0.0</td>\n",
       "    </tr>\n",
       "    <tr>\n",
       "      <th>4</th>\n",
       "      <td>4</td>\n",
       "      <td>68.370000</td>\n",
       "      <td>35.0</td>\n",
       "      <td>73889.99</td>\n",
       "      <td>225.580000</td>\n",
       "      <td>Robust logistical utilization</td>\n",
       "      <td>South Manuel</td>\n",
       "      <td>0</td>\n",
       "      <td>Iceland</td>\n",
       "      <td>2016-06-03 03:36:18</td>\n",
       "      <td>0.0</td>\n",
       "    </tr>\n",
       "    <tr>\n",
       "      <th>...</th>\n",
       "      <td>...</td>\n",
       "      <td>...</td>\n",
       "      <td>...</td>\n",
       "      <td>...</td>\n",
       "      <td>...</td>\n",
       "      <td>...</td>\n",
       "      <td>...</td>\n",
       "      <td>...</td>\n",
       "      <td>...</td>\n",
       "      <td>...</td>\n",
       "      <td>...</td>\n",
       "    </tr>\n",
       "    <tr>\n",
       "      <th>995</th>\n",
       "      <td>995</td>\n",
       "      <td>72.970000</td>\n",
       "      <td>30.0</td>\n",
       "      <td>71384.57</td>\n",
       "      <td>208.580000</td>\n",
       "      <td>Fundamental modular algorithm</td>\n",
       "      <td>Duffystad</td>\n",
       "      <td>1</td>\n",
       "      <td>Lebanon</td>\n",
       "      <td>2016-02-11 21:49:00</td>\n",
       "      <td>1.0</td>\n",
       "    </tr>\n",
       "    <tr>\n",
       "      <th>996</th>\n",
       "      <td>996</td>\n",
       "      <td>51.300000</td>\n",
       "      <td>45.0</td>\n",
       "      <td>67782.17</td>\n",
       "      <td>134.420000</td>\n",
       "      <td>Grass-roots cohesive monitoring</td>\n",
       "      <td>New Darlene</td>\n",
       "      <td>1</td>\n",
       "      <td>Bosnia and Herzegovina</td>\n",
       "      <td>2016-04-22 02:07:01</td>\n",
       "      <td>1.0</td>\n",
       "    </tr>\n",
       "    <tr>\n",
       "      <th>997</th>\n",
       "      <td>997</td>\n",
       "      <td>51.630000</td>\n",
       "      <td>51.0</td>\n",
       "      <td>42415.72</td>\n",
       "      <td>120.370000</td>\n",
       "      <td>Expanded intangible solution</td>\n",
       "      <td>South Jessica</td>\n",
       "      <td>1</td>\n",
       "      <td>Mongolia</td>\n",
       "      <td>2016-02-01 17:24:57</td>\n",
       "      <td>1.0</td>\n",
       "    </tr>\n",
       "    <tr>\n",
       "      <th>998</th>\n",
       "      <td>998</td>\n",
       "      <td>55.550000</td>\n",
       "      <td>19.0</td>\n",
       "      <td>41920.79</td>\n",
       "      <td>187.950000</td>\n",
       "      <td>Proactive bandwidth-monitored policy</td>\n",
       "      <td>West Steven</td>\n",
       "      <td>0</td>\n",
       "      <td>Guatemala</td>\n",
       "      <td>2016-03-24 02:35:54</td>\n",
       "      <td>0.0</td>\n",
       "    </tr>\n",
       "    <tr>\n",
       "      <th>999</th>\n",
       "      <td>999</td>\n",
       "      <td>64.794818</td>\n",
       "      <td>26.0</td>\n",
       "      <td>29875.80</td>\n",
       "      <td>178.350000</td>\n",
       "      <td>Virtual 5thgeneration emulation</td>\n",
       "      <td>Ronniemouth</td>\n",
       "      <td>0</td>\n",
       "      <td>Brazil</td>\n",
       "      <td>2016-06-03 21:43:21</td>\n",
       "      <td>1.0</td>\n",
       "    </tr>\n",
       "  </tbody>\n",
       "</table>\n",
       "<p>1000 rows × 11 columns</p>\n",
       "</div>"
      ],
      "text/plain": [
       "     Unnamed: 0  Daily Time Spent on Site   Age  Area Income  \\\n",
       "0             0                 68.950000  35.0     61833.90   \n",
       "1             1                 80.230000  31.0     68441.85   \n",
       "2             2                 69.470000  26.0     59785.94   \n",
       "3             3                 74.150000  29.0     54806.18   \n",
       "4             4                 68.370000  35.0     73889.99   \n",
       "..          ...                       ...   ...          ...   \n",
       "995         995                 72.970000  30.0     71384.57   \n",
       "996         996                 51.300000  45.0     67782.17   \n",
       "997         997                 51.630000  51.0     42415.72   \n",
       "998         998                 55.550000  19.0     41920.79   \n",
       "999         999                 64.794818  26.0     29875.80   \n",
       "\n",
       "     Daily Internet Usage                          Ad Topic Line  \\\n",
       "0              256.090000     Cloned 5thgeneration orchestration   \n",
       "1              179.751271     Monitored national standardization   \n",
       "2              236.500000       Organic bottom-line service-desk   \n",
       "3              245.890000  Triple-buffered reciprocal time-frame   \n",
       "4              225.580000          Robust logistical utilization   \n",
       "..                    ...                                    ...   \n",
       "995            208.580000          Fundamental modular algorithm   \n",
       "996            134.420000        Grass-roots cohesive monitoring   \n",
       "997            120.370000           Expanded intangible solution   \n",
       "998            187.950000   Proactive bandwidth-monitored policy   \n",
       "999            178.350000        Virtual 5thgeneration emulation   \n",
       "\n",
       "               City  Gender                 Country            Timestamp  \\\n",
       "0       Wrightburgh       0                 Tunisia  2016-03-27 00:53:11   \n",
       "1         West Jodi       1                   Nauru  2016-04-04 01:39:02   \n",
       "2          Davidton       0              San Marino  2016-03-13 20:35:42   \n",
       "3    West Terrifurt       1                   Italy  2016-01-10 02:31:19   \n",
       "4      South Manuel       0                 Iceland  2016-06-03 03:36:18   \n",
       "..              ...     ...                     ...                  ...   \n",
       "995       Duffystad       1                 Lebanon  2016-02-11 21:49:00   \n",
       "996     New Darlene       1  Bosnia and Herzegovina  2016-04-22 02:07:01   \n",
       "997   South Jessica       1                Mongolia  2016-02-01 17:24:57   \n",
       "998     West Steven       0               Guatemala  2016-03-24 02:35:54   \n",
       "999     Ronniemouth       0                  Brazil  2016-06-03 21:43:21   \n",
       "\n",
       "     Clicked on Ad  \n",
       "0              0.0  \n",
       "1              0.0  \n",
       "2              0.0  \n",
       "3              0.0  \n",
       "4              0.0  \n",
       "..             ...  \n",
       "995            1.0  \n",
       "996            1.0  \n",
       "997            1.0  \n",
       "998            0.0  \n",
       "999            1.0  \n",
       "\n",
       "[1000 rows x 11 columns]"
      ]
     },
     "execution_count": 9,
     "metadata": {},
     "output_type": "execute_result"
    }
   ],
   "source": [
    "import numpy as np\n",
    "desc = df.describe()\n",
    "df['Daily Time Spent on Site'] = df['Daily Time Spent on Site'].fillna(desc['Daily Time Spent on Site']['mean'])\n",
    "df['Age'] = df['Age'].fillna(desc['Age']['mean'])\n",
    "df['Daily Internet Usage'] = df['Daily Internet Usage'].fillna(desc['Daily Internet Usage']['mean'])\n",
    "df"
   ]
  },
  {
   "cell_type": "markdown",
   "metadata": {},
   "source": [
    "<strong> describe() با استفاده از تابع </strong>\n",
    "<br>\n",
    "<strong>fillna() میانگین هر ستون را بدست میاوریم و در نهایت با استفاده از تابع </strong>\n",
    "<br>\n",
    "<strong>ستون های خالی هر سطر را با میانگین آن ستون تعویض میکنیم </strong>\n",
    "<br>"
   ]
  },
  {
   "cell_type": "code",
   "execution_count": 10,
   "metadata": {},
   "outputs": [
    {
     "data": {
      "text/plain": [
       "Unnamed: 0                    0\n",
       "Daily Time Spent on Site      0\n",
       "Age                           0\n",
       "Area Income                   0\n",
       "Daily Internet Usage          0\n",
       "Ad Topic Line                 0\n",
       "City                          0\n",
       "Gender                        0\n",
       "Country                       0\n",
       "Timestamp                     0\n",
       "Clicked on Ad               168\n",
       "dtype: int64"
      ]
     },
     "execution_count": 10,
     "metadata": {},
     "output_type": "execute_result"
    }
   ],
   "source": [
    "df.isna().sum()"
   ]
  },
  {
   "cell_type": "markdown",
   "metadata": {},
   "source": [
    "<strong> همانطور ک مشاهده میشود تعداد سطر های خالی در هر ستون بجز ستون آخر برابر 0 شده است </strong>"
   ]
  },
  {
   "cell_type": "markdown",
   "metadata": {},
   "source": [
    "بخش چهارم\n",
    "=\n",
    "<strong>value_counts() با استفاده از تابع </strong>\n",
    "<br>\n",
    "<strong> میتوان نشان داد که در هر ستون از هر مقدار چه تعدادی وجود دارد </strong>"
   ]
  },
  {
   "cell_type": "code",
   "execution_count": 11,
   "metadata": {},
   "outputs": [
    {
     "data": {
      "text/plain": [
       "0    519\n",
       "1    481\n",
       "Name: Gender, dtype: int64"
      ]
     },
     "execution_count": 11,
     "metadata": {},
     "output_type": "execute_result"
    }
   ],
   "source": [
    "df['Gender'].value_counts()"
   ]
  },
  {
   "cell_type": "code",
   "execution_count": 12,
   "metadata": {},
   "outputs": [
    {
     "data": {
      "text/plain": [
       "0.0    419\n",
       "1.0    413\n",
       "Name: Clicked on Ad, dtype: int64"
      ]
     },
     "execution_count": 12,
     "metadata": {},
     "output_type": "execute_result"
    }
   ],
   "source": [
    "df['Clicked on Ad'].value_counts()"
   ]
  },
  {
   "cell_type": "markdown",
   "metadata": {},
   "source": [
    "بخش پنجم\n",
    "=\n",
    "<strong> در داده های ما باید سن افراد بالای 21 و همچنین جنسیت آنها برابر 1 باشد که به روش زیر میتوان آنهارا ب دست اورد </strong>"
   ]
  },
  {
   "cell_type": "code",
   "execution_count": 13,
   "metadata": {},
   "outputs": [
    {
     "data": {
      "text/html": [
       "<div>\n",
       "<style scoped>\n",
       "    .dataframe tbody tr th:only-of-type {\n",
       "        vertical-align: middle;\n",
       "    }\n",
       "\n",
       "    .dataframe tbody tr th {\n",
       "        vertical-align: top;\n",
       "    }\n",
       "\n",
       "    .dataframe thead th {\n",
       "        text-align: right;\n",
       "    }\n",
       "</style>\n",
       "<table border=\"1\" class=\"dataframe\">\n",
       "  <thead>\n",
       "    <tr style=\"text-align: right;\">\n",
       "      <th></th>\n",
       "      <th>Unnamed: 0</th>\n",
       "      <th>Daily Time Spent on Site</th>\n",
       "      <th>Age</th>\n",
       "      <th>Area Income</th>\n",
       "      <th>Daily Internet Usage</th>\n",
       "      <th>Ad Topic Line</th>\n",
       "      <th>City</th>\n",
       "      <th>Gender</th>\n",
       "      <th>Country</th>\n",
       "      <th>Timestamp</th>\n",
       "      <th>Clicked on Ad</th>\n",
       "    </tr>\n",
       "  </thead>\n",
       "  <tbody>\n",
       "    <tr>\n",
       "      <th>1</th>\n",
       "      <td>1</td>\n",
       "      <td>80.23</td>\n",
       "      <td>31.0</td>\n",
       "      <td>68441.85</td>\n",
       "      <td>179.751271</td>\n",
       "      <td>Monitored national standardization</td>\n",
       "      <td>West Jodi</td>\n",
       "      <td>1</td>\n",
       "      <td>Nauru</td>\n",
       "      <td>2016-04-04 01:39:02</td>\n",
       "      <td>0.0</td>\n",
       "    </tr>\n",
       "    <tr>\n",
       "      <th>3</th>\n",
       "      <td>3</td>\n",
       "      <td>74.15</td>\n",
       "      <td>29.0</td>\n",
       "      <td>54806.18</td>\n",
       "      <td>245.890000</td>\n",
       "      <td>Triple-buffered reciprocal time-frame</td>\n",
       "      <td>West Terrifurt</td>\n",
       "      <td>1</td>\n",
       "      <td>Italy</td>\n",
       "      <td>2016-01-10 02:31:19</td>\n",
       "      <td>0.0</td>\n",
       "    </tr>\n",
       "    <tr>\n",
       "      <th>5</th>\n",
       "      <td>5</td>\n",
       "      <td>59.99</td>\n",
       "      <td>23.0</td>\n",
       "      <td>59761.56</td>\n",
       "      <td>226.740000</td>\n",
       "      <td>Sharable client-driven software</td>\n",
       "      <td>Jamieberg</td>\n",
       "      <td>1</td>\n",
       "      <td>Norway</td>\n",
       "      <td>2016-05-19 14:30:17</td>\n",
       "      <td>0.0</td>\n",
       "    </tr>\n",
       "    <tr>\n",
       "      <th>7</th>\n",
       "      <td>7</td>\n",
       "      <td>66.00</td>\n",
       "      <td>48.0</td>\n",
       "      <td>24593.33</td>\n",
       "      <td>131.760000</td>\n",
       "      <td>Reactive local challenge</td>\n",
       "      <td>Port Jefferybury</td>\n",
       "      <td>1</td>\n",
       "      <td>Australia</td>\n",
       "      <td>2016-03-07 01:40:15</td>\n",
       "      <td>1.0</td>\n",
       "    </tr>\n",
       "    <tr>\n",
       "      <th>8</th>\n",
       "      <td>8</td>\n",
       "      <td>74.53</td>\n",
       "      <td>30.0</td>\n",
       "      <td>68862.00</td>\n",
       "      <td>221.510000</td>\n",
       "      <td>Configurable coherent function</td>\n",
       "      <td>West Colin</td>\n",
       "      <td>1</td>\n",
       "      <td>Grenada</td>\n",
       "      <td>2016-04-18 09:33:42</td>\n",
       "      <td>0.0</td>\n",
       "    </tr>\n",
       "    <tr>\n",
       "      <th>...</th>\n",
       "      <td>...</td>\n",
       "      <td>...</td>\n",
       "      <td>...</td>\n",
       "      <td>...</td>\n",
       "      <td>...</td>\n",
       "      <td>...</td>\n",
       "      <td>...</td>\n",
       "      <td>...</td>\n",
       "      <td>...</td>\n",
       "      <td>...</td>\n",
       "      <td>...</td>\n",
       "    </tr>\n",
       "    <tr>\n",
       "      <th>991</th>\n",
       "      <td>991</td>\n",
       "      <td>38.96</td>\n",
       "      <td>38.0</td>\n",
       "      <td>36497.22</td>\n",
       "      <td>140.670000</td>\n",
       "      <td>Versatile mission-critical application</td>\n",
       "      <td>Mauricefurt</td>\n",
       "      <td>1</td>\n",
       "      <td>Comoros</td>\n",
       "      <td>2016-07-21 16:02:40</td>\n",
       "      <td>1.0</td>\n",
       "    </tr>\n",
       "    <tr>\n",
       "      <th>993</th>\n",
       "      <td>993</td>\n",
       "      <td>64.20</td>\n",
       "      <td>27.0</td>\n",
       "      <td>66200.96</td>\n",
       "      <td>227.630000</td>\n",
       "      <td>Phased zero tolerance extranet</td>\n",
       "      <td>Edwardsmouth</td>\n",
       "      <td>1</td>\n",
       "      <td>Isle of Man</td>\n",
       "      <td>2016-02-11 23:45:01</td>\n",
       "      <td>0.0</td>\n",
       "    </tr>\n",
       "    <tr>\n",
       "      <th>995</th>\n",
       "      <td>995</td>\n",
       "      <td>72.97</td>\n",
       "      <td>30.0</td>\n",
       "      <td>71384.57</td>\n",
       "      <td>208.580000</td>\n",
       "      <td>Fundamental modular algorithm</td>\n",
       "      <td>Duffystad</td>\n",
       "      <td>1</td>\n",
       "      <td>Lebanon</td>\n",
       "      <td>2016-02-11 21:49:00</td>\n",
       "      <td>1.0</td>\n",
       "    </tr>\n",
       "    <tr>\n",
       "      <th>996</th>\n",
       "      <td>996</td>\n",
       "      <td>51.30</td>\n",
       "      <td>45.0</td>\n",
       "      <td>67782.17</td>\n",
       "      <td>134.420000</td>\n",
       "      <td>Grass-roots cohesive monitoring</td>\n",
       "      <td>New Darlene</td>\n",
       "      <td>1</td>\n",
       "      <td>Bosnia and Herzegovina</td>\n",
       "      <td>2016-04-22 02:07:01</td>\n",
       "      <td>1.0</td>\n",
       "    </tr>\n",
       "    <tr>\n",
       "      <th>997</th>\n",
       "      <td>997</td>\n",
       "      <td>51.63</td>\n",
       "      <td>51.0</td>\n",
       "      <td>42415.72</td>\n",
       "      <td>120.370000</td>\n",
       "      <td>Expanded intangible solution</td>\n",
       "      <td>South Jessica</td>\n",
       "      <td>1</td>\n",
       "      <td>Mongolia</td>\n",
       "      <td>2016-02-01 17:24:57</td>\n",
       "      <td>1.0</td>\n",
       "    </tr>\n",
       "  </tbody>\n",
       "</table>\n",
       "<p>468 rows × 11 columns</p>\n",
       "</div>"
      ],
      "text/plain": [
       "     Unnamed: 0  Daily Time Spent on Site   Age  Area Income  \\\n",
       "1             1                     80.23  31.0     68441.85   \n",
       "3             3                     74.15  29.0     54806.18   \n",
       "5             5                     59.99  23.0     59761.56   \n",
       "7             7                     66.00  48.0     24593.33   \n",
       "8             8                     74.53  30.0     68862.00   \n",
       "..          ...                       ...   ...          ...   \n",
       "991         991                     38.96  38.0     36497.22   \n",
       "993         993                     64.20  27.0     66200.96   \n",
       "995         995                     72.97  30.0     71384.57   \n",
       "996         996                     51.30  45.0     67782.17   \n",
       "997         997                     51.63  51.0     42415.72   \n",
       "\n",
       "     Daily Internet Usage                           Ad Topic Line  \\\n",
       "1              179.751271      Monitored national standardization   \n",
       "3              245.890000   Triple-buffered reciprocal time-frame   \n",
       "5              226.740000         Sharable client-driven software   \n",
       "7              131.760000                Reactive local challenge   \n",
       "8              221.510000          Configurable coherent function   \n",
       "..                    ...                                     ...   \n",
       "991            140.670000  Versatile mission-critical application   \n",
       "993            227.630000          Phased zero tolerance extranet   \n",
       "995            208.580000           Fundamental modular algorithm   \n",
       "996            134.420000         Grass-roots cohesive monitoring   \n",
       "997            120.370000            Expanded intangible solution   \n",
       "\n",
       "                 City  Gender                 Country            Timestamp  \\\n",
       "1           West Jodi       1                   Nauru  2016-04-04 01:39:02   \n",
       "3      West Terrifurt       1                   Italy  2016-01-10 02:31:19   \n",
       "5           Jamieberg       1                  Norway  2016-05-19 14:30:17   \n",
       "7    Port Jefferybury       1               Australia  2016-03-07 01:40:15   \n",
       "8          West Colin       1                 Grenada  2016-04-18 09:33:42   \n",
       "..                ...     ...                     ...                  ...   \n",
       "991       Mauricefurt       1                 Comoros  2016-07-21 16:02:40   \n",
       "993      Edwardsmouth       1             Isle of Man  2016-02-11 23:45:01   \n",
       "995         Duffystad       1                 Lebanon  2016-02-11 21:49:00   \n",
       "996       New Darlene       1  Bosnia and Herzegovina  2016-04-22 02:07:01   \n",
       "997     South Jessica       1                Mongolia  2016-02-01 17:24:57   \n",
       "\n",
       "     Clicked on Ad  \n",
       "1              0.0  \n",
       "3              0.0  \n",
       "5              0.0  \n",
       "7              1.0  \n",
       "8              0.0  \n",
       "..             ...  \n",
       "991            1.0  \n",
       "993            0.0  \n",
       "995            1.0  \n",
       "996            1.0  \n",
       "997            1.0  \n",
       "\n",
       "[468 rows x 11 columns]"
      ]
     },
     "execution_count": 13,
     "metadata": {},
     "output_type": "execute_result"
    }
   ],
   "source": [
    "older_and_male = df[(df['Gender'] == 1) & (df['Age'] > 21)]\n",
    "older_and_male"
   ]
  },
  {
   "cell_type": "code",
   "execution_count": 14,
   "metadata": {
    "scrolled": true
   },
   "outputs": [
    {
     "data": {
      "text/plain": [
       "Unnamed: 0                  468\n",
       "Daily Time Spent on Site    468\n",
       "Age                         468\n",
       "Area Income                 468\n",
       "Daily Internet Usage        468\n",
       "Ad Topic Line               468\n",
       "City                        468\n",
       "Gender                      468\n",
       "Country                     468\n",
       "Timestamp                   468\n",
       "Clicked on Ad               397\n",
       "dtype: int64"
      ]
     },
     "execution_count": 14,
     "metadata": {},
     "output_type": "execute_result"
    }
   ],
   "source": [
    "older_and_male.count()"
   ]
  },
  {
   "cell_type": "markdown",
   "metadata": {},
   "source": [
    "<strong>count() با استفاده از تابع </strong>\n",
    "<br>\n",
    "<strong>تعداد داده های موجود در دیتافرم و در هر ستون را میتوان بدست آورد </strong>"
   ]
  },
  {
   "cell_type": "markdown",
   "metadata": {},
   "source": [
    "بخش ششم\n",
    "=\n",
    "<strong>Vectorization</strong>\n",
    "<strong> روشی سریع در کتابخانه نامپای است که میتوان به جای اینکه هر عنصر از دیتا را پیشمایش کنیم از این روش استفاده کنیم </strong>"
   ]
  },
  {
   "cell_type": "code",
   "execution_count": 15,
   "metadata": {},
   "outputs": [
    {
     "name": "stdout",
     "output_type": "stream",
     "text": [
      "Clicked on Ad\n",
      "0.0    31.723326\n",
      "1.0    40.295600\n",
      "Name: Age, dtype: float64\n"
     ]
    },
    {
     "data": {
      "text/plain": [
       "0.003993511199951172"
      ]
     },
     "execution_count": 15,
     "metadata": {},
     "output_type": "execute_result"
    }
   ],
   "source": [
    "import time\n",
    "t1 = time.time()\n",
    "print(df.groupby('Clicked on Ad').mean()['Age'])\n",
    "t2 = time.time()\n",
    "t2 - t1"
   ]
  },
  {
   "cell_type": "markdown",
   "metadata": {},
   "source": [
    "<strong>groupby() با استفاده از تابع </strong>\n",
    "<br>\n",
    "<strong>mean() که ورودی آن نام ستون مورد نظر است و به استفاده از متُد </strong>\n",
    "<br>\n",
    "<strong> میتوان میانگین ستون دلخواه که در این مورد سن است را بدست میاوریم </strong>"
   ]
  },
  {
   "cell_type": "markdown",
   "metadata": {},
   "source": [
    "بخش هفتم\n",
    "="
   ]
  },
  {
   "cell_type": "code",
   "execution_count": 16,
   "metadata": {},
   "outputs": [
    {
     "name": "stdout",
     "output_type": "stream",
     "text": [
      "0.0 31.723325881701896\n",
      "1.0 40.295599848637366\n"
     ]
    },
    {
     "data": {
      "text/plain": [
       "0.017950057983398438"
      ]
     },
     "execution_count": 16,
     "metadata": {},
     "output_type": "execute_result"
    }
   ],
   "source": [
    "import math\n",
    "x = 0\n",
    "t = 0\n",
    "y = 0\n",
    "z = 0\n",
    "t3 = time.time()\n",
    "length = len(df['Clicked on Ad'])\n",
    "for i in range(1000):\n",
    "    if df['Clicked on Ad'][i] == 1:\n",
    "        x += df['Age'][i]\n",
    "        t += 1\n",
    "    elif df['Clicked on Ad'][i] == 0:\n",
    "        y += df['Age'][i]\n",
    "        z += 1\n",
    "print(\"0.0\", y / z)\n",
    "print(\"1.0\", x / t)\n",
    "t4 = time.time()\n",
    "t4 - t3"
   ]
  },
  {
   "cell_type": "markdown",
   "metadata": {},
   "source": [
    "<strong>این بار عمل میانگین گیری را با حلقه انجام میدهیم و همانطور که دیده میشود این عمل تقریبا 4 الی 5 برابر کند تر از روش بخش ششم انجام شده است</strong>\n",
    "<br>\n",
    "<strong>بدون حلقه : 0.0039 </strong>\n",
    "<br>\n",
    "<strong> با حلقه : 0.0179 </strong>\n",
    "<br>\n",
    "<strong> که البته در دیتا فرم با تعداد بیشتر از 1000 داده این تغییر زمانی محسوس تر نیز خواهد شد </strong>"
   ]
  },
  {
   "cell_type": "markdown",
   "metadata": {},
   "source": [
    "بخش هشتم\n",
    "=\n",
    "<strong> در این بخش قسمت هایی که مقدار عددی دارند روی هیستوگرام نمایش داده میشوند </strong>"
   ]
  },
  {
   "cell_type": "markdown",
   "metadata": {},
   "source": [
    "مقدار زمان گذرانده در سایت در طول روز\n",
    "="
   ]
  },
  {
   "cell_type": "code",
   "execution_count": 17,
   "metadata": {},
   "outputs": [
    {
     "data": {
      "text/plain": [
       "<AxesSubplot:>"
      ]
     },
     "execution_count": 17,
     "metadata": {},
     "output_type": "execute_result"
    },
    {
     "data": {
      "image/png": "[encoded data removed]",
      "text/plain": [
       "<Figure size 432x288 with 1 Axes>"
      ]
     },
     "metadata": {
      "needs_background": "light"
     },
     "output_type": "display_data"
    }
   ],
   "source": [
    "df['Daily Time Spent on Site'].hist()"
   ]
  },
  {
   "cell_type": "markdown",
   "metadata": {},
   "source": [
    "سن\n",
    "="
   ]
  },
  {
   "cell_type": "code",
   "execution_count": 18,
   "metadata": {},
   "outputs": [
    {
     "data": {
      "text/plain": [
       "<AxesSubplot:>"
      ]
     },
     "execution_count": 18,
     "metadata": {},
     "output_type": "execute_result"
    },
    {
     "data": {
      "image/png": "[encoded data removed]",
      "text/plain": [
       "<Figure size 432x288 with 1 Axes>"
      ]
     },
     "metadata": {
      "needs_background": "light"
     },
     "output_type": "display_data"
    }
   ],
   "source": [
    "df['Age'].hist()"
   ]
  },
  {
   "cell_type": "markdown",
   "metadata": {},
   "source": [
    "درآمد منطقه\n",
    "="
   ]
  },
  {
   "cell_type": "code",
   "execution_count": 19,
   "metadata": {},
   "outputs": [
    {
     "data": {
      "text/plain": [
       "<AxesSubplot:>"
      ]
     },
     "execution_count": 19,
     "metadata": {},
     "output_type": "execute_result"
    },
    {
     "data": {
      "image/png": "[encoded data removed]",
      "text/plain": [
       "<Figure size 432x288 with 1 Axes>"
      ]
     },
     "metadata": {
      "needs_background": "light"
     },
     "output_type": "display_data"
    }
   ],
   "source": [
    "df['Area Income'].hist()"
   ]
  },
  {
   "cell_type": "markdown",
   "metadata": {},
   "source": [
    "میزان مصرف روزانه اینترنت\n",
    "="
   ]
  },
  {
   "cell_type": "code",
   "execution_count": 20,
   "metadata": {
    "scrolled": true
   },
   "outputs": [
    {
     "data": {
      "text/plain": [
       "<AxesSubplot:>"
      ]
     },
     "execution_count": 20,
     "metadata": {},
     "output_type": "execute_result"
    },
    {
     "data": {
      "image/png": "[encoded data removed]",
      "text/plain": [
       "<Figure size 432x288 with 1 Axes>"
      ]
     },
     "metadata": {
      "needs_background": "light"
     },
     "output_type": "display_data"
    }
   ],
   "source": [
    "df['Daily Internet Usage'].hist()"
   ]
  },
  {
   "cell_type": "markdown",
   "metadata": {},
   "source": [
    "کلیک کردن روی تبلیغ\n",
    "="
   ]
  },
  {
   "cell_type": "code",
   "execution_count": 21,
   "metadata": {
    "scrolled": true
   },
   "outputs": [
    {
     "data": {
      "text/plain": [
       "<AxesSubplot:>"
      ]
     },
     "execution_count": 21,
     "metadata": {},
     "output_type": "execute_result"
    },
    {
     "data": {
      "image/png": "[encoded data removed]",
      "text/plain": [
       "<Figure size 432x288 with 1 Axes>"
      ]
     },
     "metadata": {
      "needs_background": "light"
     },
     "output_type": "display_data"
    }
   ],
   "source": [
    "df['Clicked on Ad'].hist()"
   ]
  },
  {
   "cell_type": "code",
   "execution_count": 22,
   "metadata": {},
   "outputs": [],
   "source": [
    "df = df.drop(columns=['Ad Topic Line', 'City','Country' , 'Timestamp' , 'Gender'])"
   ]
  },
  {
   "cell_type": "markdown",
   "metadata": {},
   "source": [
    "بخش نهم\n",
    "= \n",
    "نرمال سازی داده ها\n",
    "--\n",
    "<strong> در دنیای واقعی بعضی از داده ها ممکن است با داده های دیگر همان ستون تفاوت های بسیار زیادی داشته باشند و با نرمال سازی داده ها میتوان این مقیاس را کوچکتر کرده تا کار کردن با این داده ها برای ما راحت تر شود </strong>\n",
    "<br>\n",
    "<strong>  برای نرمال سازی داده ها روش های زیادی وجود دارد که در این تمرین ما داده ی مورد نظر را از میانگین کم کرده و در نهایت برانحراف معیار تقسیم میکنیم </strong>"
   ]
  },
  {
   "cell_type": "code",
   "execution_count": 23,
   "metadata": {
    "scrolled": true
   },
   "outputs": [
    {
     "data": {
      "text/html": [
       "<div>\n",
       "<style scoped>\n",
       "    .dataframe tbody tr th:only-of-type {\n",
       "        vertical-align: middle;\n",
       "    }\n",
       "\n",
       "    .dataframe tbody tr th {\n",
       "        vertical-align: top;\n",
       "    }\n",
       "\n",
       "    .dataframe thead th {\n",
       "        text-align: right;\n",
       "    }\n",
       "</style>\n",
       "<table border=\"1\" class=\"dataframe\">\n",
       "  <thead>\n",
       "    <tr style=\"text-align: right;\">\n",
       "      <th></th>\n",
       "      <th>Unnamed: 0</th>\n",
       "      <th>Daily Time Spent on Site</th>\n",
       "      <th>Age</th>\n",
       "      <th>Area Income</th>\n",
       "      <th>Daily Internet Usage</th>\n",
       "      <th>Clicked on Ad</th>\n",
       "    </tr>\n",
       "  </thead>\n",
       "  <tbody>\n",
       "    <tr>\n",
       "      <th>0</th>\n",
       "      <td>0</td>\n",
       "      <td>0.273474</td>\n",
       "      <td>-0.116122</td>\n",
       "      <td>0.509436</td>\n",
       "      <td>1.817578</td>\n",
       "      <td>0.0</td>\n",
       "    </tr>\n",
       "    <tr>\n",
       "      <th>1</th>\n",
       "      <td>1</td>\n",
       "      <td>1.015870</td>\n",
       "      <td>-0.576377</td>\n",
       "      <td>1.002029</td>\n",
       "      <td>0.000000</td>\n",
       "      <td>0.0</td>\n",
       "    </tr>\n",
       "    <tr>\n",
       "      <th>2</th>\n",
       "      <td>2</td>\n",
       "      <td>0.307698</td>\n",
       "      <td>-1.151696</td>\n",
       "      <td>0.356770</td>\n",
       "      <td>1.351152</td>\n",
       "      <td>0.0</td>\n",
       "    </tr>\n",
       "    <tr>\n",
       "      <th>3</th>\n",
       "      <td>3</td>\n",
       "      <td>0.615713</td>\n",
       "      <td>-0.806505</td>\n",
       "      <td>-0.014448</td>\n",
       "      <td>1.574722</td>\n",
       "      <td>0.0</td>\n",
       "    </tr>\n",
       "    <tr>\n",
       "      <th>4</th>\n",
       "      <td>4</td>\n",
       "      <td>0.235301</td>\n",
       "      <td>-0.116122</td>\n",
       "      <td>1.408163</td>\n",
       "      <td>1.091154</td>\n",
       "      <td>0.0</td>\n",
       "    </tr>\n",
       "    <tr>\n",
       "      <th>...</th>\n",
       "      <td>...</td>\n",
       "      <td>...</td>\n",
       "      <td>...</td>\n",
       "      <td>...</td>\n",
       "      <td>...</td>\n",
       "      <td>...</td>\n",
       "    </tr>\n",
       "    <tr>\n",
       "      <th>995</th>\n",
       "      <td>995</td>\n",
       "      <td>0.538051</td>\n",
       "      <td>-0.691441</td>\n",
       "      <td>1.221395</td>\n",
       "      <td>0.686394</td>\n",
       "      <td>1.0</td>\n",
       "    </tr>\n",
       "    <tr>\n",
       "      <th>996</th>\n",
       "      <td>996</td>\n",
       "      <td>-0.888164</td>\n",
       "      <td>1.034517</td>\n",
       "      <td>0.952853</td>\n",
       "      <td>-1.079309</td>\n",
       "      <td>1.0</td>\n",
       "    </tr>\n",
       "    <tr>\n",
       "      <th>997</th>\n",
       "      <td>997</td>\n",
       "      <td>-0.866445</td>\n",
       "      <td>1.724900</td>\n",
       "      <td>-0.938101</td>\n",
       "      <td>-1.413831</td>\n",
       "      <td>1.0</td>\n",
       "    </tr>\n",
       "    <tr>\n",
       "      <th>998</th>\n",
       "      <td>998</td>\n",
       "      <td>-0.608450</td>\n",
       "      <td>-1.957144</td>\n",
       "      <td>-0.974996</td>\n",
       "      <td>0.195207</td>\n",
       "      <td>0.0</td>\n",
       "    </tr>\n",
       "    <tr>\n",
       "      <th>999</th>\n",
       "      <td>999</td>\n",
       "      <td>0.000000</td>\n",
       "      <td>-1.151696</td>\n",
       "      <td>-1.872895</td>\n",
       "      <td>-0.033363</td>\n",
       "      <td>1.0</td>\n",
       "    </tr>\n",
       "  </tbody>\n",
       "</table>\n",
       "<p>1000 rows × 6 columns</p>\n",
       "</div>"
      ],
      "text/plain": [
       "     Unnamed: 0  Daily Time Spent on Site       Age  Area Income  \\\n",
       "0             0                  0.273474 -0.116122     0.509436   \n",
       "1             1                  1.015870 -0.576377     1.002029   \n",
       "2             2                  0.307698 -1.151696     0.356770   \n",
       "3             3                  0.615713 -0.806505    -0.014448   \n",
       "4             4                  0.235301 -0.116122     1.408163   \n",
       "..          ...                       ...       ...          ...   \n",
       "995         995                  0.538051 -0.691441     1.221395   \n",
       "996         996                 -0.888164  1.034517     0.952853   \n",
       "997         997                 -0.866445  1.724900    -0.938101   \n",
       "998         998                 -0.608450 -1.957144    -0.974996   \n",
       "999         999                  0.000000 -1.151696    -1.872895   \n",
       "\n",
       "     Daily Internet Usage  Clicked on Ad  \n",
       "0                1.817578            0.0  \n",
       "1                0.000000            0.0  \n",
       "2                1.351152            0.0  \n",
       "3                1.574722            0.0  \n",
       "4                1.091154            0.0  \n",
       "..                    ...            ...  \n",
       "995              0.686394            1.0  \n",
       "996             -1.079309            1.0  \n",
       "997             -1.413831            1.0  \n",
       "998              0.195207            0.0  \n",
       "999             -0.033363            1.0  \n",
       "\n",
       "[1000 rows x 6 columns]"
      ]
     },
     "execution_count": 23,
     "metadata": {},
     "output_type": "execute_result"
    }
   ],
   "source": [
    "df['Daily Time Spent on Site'] = (df['Daily Time Spent on Site'] - df['Daily Time Spent on Site'].mean()) / df['Daily Time Spent on Site'].std()\n",
    "df['Age'] = (df['Age'] - df['Age'].mean()) / df['Age'].std()\n",
    "df['Area Income'] = (df['Area Income'] - df['Area Income'].mean()) / df['Area Income'].std()\n",
    "df['Daily Internet Usage'] = (df['Daily Internet Usage'] - df['Daily Internet Usage'].mean()) / df['Daily Internet Usage'].std()\n",
    "df"
   ]
  },
  {
   "cell_type": "markdown",
   "metadata": {},
   "source": [
    "<strong>برای نرمال سازی داده ها در هر ستون مقدار داده های هر ستون را از میانگین آن ستون کم میکنیم و در نهایت بر انحراف معیار ان ستون تقسیم میکنیم </strong>\n",
    "<br>\n",
    "<strong>replace() میتوانستیم از تابع </strong>\n",
    "<br>\n",
    "<strong> می بود inplace = True نیز استفاده کنیم ک در این صورت نیز مانند قسمت های قبلی باید </strong>"
   ]
  },
  {
   "cell_type": "markdown",
   "metadata": {},
   "source": [
    "بخش دهم\n",
    "="
   ]
  },
  {
   "cell_type": "code",
   "execution_count": 24,
   "metadata": {},
   "outputs": [
    {
     "data": {
      "image/png": "[encoded data removed]",
      "text/plain": [
       "<Figure size 432x288 with 1 Axes>"
      ]
     },
     "metadata": {
      "needs_background": "light"
     },
     "output_type": "display_data"
    }
   ],
   "source": [
    "import matplotlib.pyplot as plt\n",
    "import scipy.stats as ss\n",
    "mean = df.groupby(df['Clicked on Ad']).mean()\n",
    "std = df.groupby(df['Clicked on Ad']).std()\n",
    "x = np.linspace( df['Age'].min(), df['Age'].max(), 100)\n",
    "plt.title('Age')\n",
    "plt.plot(x, ss.norm.pdf(x, mean['Age'][1], std['Age'][1]), label = \"Clicked on Ad\")\n",
    "plt.plot(x, ss.norm.pdf(x, mean['Age'][0], std['Age'][0]), label = \"Did not Click on Ad\")\n",
    "plt.legend()\n",
    "plt.show()"
   ]
  },
  {
   "cell_type": "code",
   "execution_count": 25,
   "metadata": {},
   "outputs": [
    {
     "data": {
      "image/png": "[encoded data removed]",
      "text/plain": [
       "<Figure size 432x288 with 1 Axes>"
      ]
     },
     "metadata": {
      "needs_background": "light"
     },
     "output_type": "display_data"
    }
   ],
   "source": [
    "x = np.linspace(df['Daily Time Spent on Site'].min(), df['Daily Time Spent on Site'].max(), 100)\n",
    "plt.title('Daily Time Spent on Site')\n",
    "plt.plot(x, ss.norm.pdf(x, mean['Daily Time Spent on Site'][1], std['Daily Time Spent on Site'][1]), label = \"Clicked on Ad\")\n",
    "plt.plot(x, ss.norm.pdf(x, mean['Daily Time Spent on Site'][0], std['Daily Time Spent on Site'][0]), label = \"Did not Click on Ad\")\n",
    "plt.legend()\n",
    "plt.show()"
   ]
  },
  {
   "cell_type": "code",
   "execution_count": 26,
   "metadata": {},
   "outputs": [
    {
     "data": {
      "image/png": "[encoded data removed]",
      "text/plain": [
       "<Figure size 432x288 with 1 Axes>"
      ]
     },
     "metadata": {
      "needs_background": "light"
     },
     "output_type": "display_data"
    }
   ],
   "source": [
    "x = np.linspace(df['Area Income'].min(), df['Area Income'].max(), 100)\n",
    "plt.title('Area Income')\n",
    "plt.plot(x, ss.norm.pdf(x, mean['Area Income'][1], std['Area Income'][1]), label = \"Clicked on Ad\")\n",
    "plt.plot(x, ss.norm.pdf(x, mean['Area Income'][0], std['Area Income'][0]), label = \"Did not Click on Ad\")\n",
    "plt.legend()\n",
    "plt.show()"
   ]
  },
  {
   "cell_type": "code",
   "execution_count": 27,
   "metadata": {},
   "outputs": [
    {
     "data": {
      "image/png": "[encoded data removed]",
      "text/plain": [
       "<Figure size 432x288 with 1 Axes>"
      ]
     },
     "metadata": {
      "needs_background": "light"
     },
     "output_type": "display_data"
    }
   ],
   "source": [
    "x = np.linspace(df['Daily Internet Usage'].min(), df['Daily Internet Usage'].max(), 1000)\n",
    "plt.title('Daily Internet Usage')\n",
    "plt.plot(x, ss.norm.pdf(x, mean['Daily Internet Usage'][1], std['Daily Internet Usage'][1]), label = \"Clicked on Ad\")\n",
    "plt.plot(x, ss.norm.pdf(x, mean['Daily Internet Usage'][0], std['Daily Internet Usage'][0]), label = \"Did not Click on Ad\")\n",
    "plt.legend()\n",
    "plt.show()"
   ]
  },
  {
   "cell_type": "markdown",
   "metadata": {},
   "source": [
    "<strong>برای هر ویژگی محدوده را از کمترین مقدار آن ویژگی تا بیشترین مقدار آن ویژگی در نظر گرفته ایم </strong>\n",
    "<br>\n",
    "<strong>نمودار های نارنجی مربوط به کلاسی است که روی تبلیغ کلیک نکرده اند و نمودار های آبی برای کلاسی است که روی تبلیغ کلیک کرده اند </strong>\n",
    "<br>\n",
    "<strong> با توجه به نمودار های بالا بهترین ویژگی برای پیش بینی مقدار اینترنت مصرفی در روز است </strong>\n",
    "<br>\n",
    "<strong> دلیل این انتخاب این است که مقادیر ماکسیمم دو نمودار از هم نسبت به بقیه نمودار ها بیشتر فاصله دارد و همچنین اگر بازه ای به صورت زیر در نظر بگیریم </strong>\n",
    "<br>\n",
    "[mean - std : mean + std]\n",
    "<br>\n",
    "<strong> این بازه بهترین حالتی که خواهد داشت برای ویژگی مصرف روزانه ی اینترنت خواهد بود </strong>\n",
    "<br>\n",
    "<strong> به طور کلی مطلوب ترین انتخاب برای ما ویژگی ای است که دو نمودار آن با هم کمترین اشتراک را داشته باشند </strong>\n",
    "<br>\n",
    "<strong> منظور از بهترین حالت این است که میان بازه ها برای دو کلاس اشتراکی وجود ندارد و میانگین این ویژگی برای هر دو کلاس از هم فاصله ی بیشتری نسبت به باقی ویژگی ها دارند </strong>"
   ]
  },
  {
   "cell_type": "markdown",
   "metadata": {},
   "source": [
    "بخش یازدهم\n",
    "="
   ]
  },
  {
   "cell_type": "code",
   "execution_count": 28,
   "metadata": {},
   "outputs": [],
   "source": [
    "pd.options.mode.chained_assignment = None\n",
    "df_new = df[df['Clicked on Ad'].isnull()]\n",
    "df_new.loc[(df_new['Daily Internet Usage'] >= (mean['Daily Internet Usage'][1] - std['Daily Internet Usage'][1])) & (df_new['Daily Internet Usage'] <= (mean['Daily Internet Usage'][1] + std['Daily Internet Usage'][1])), 'Clicked on Ad'] = 1\n",
    "df_new.loc[(df_new['Daily Internet Usage'] >= (mean['Daily Internet Usage'][0] - std['Daily Internet Usage'][0])) & (df_new['Daily Internet Usage'] <= (mean['Daily Internet Usage'][0] + std['Daily Internet Usage'][0])), 'Clicked on Ad'] = 0\n",
    "df_new['Clicked on Ad'] = df_new['Clicked on Ad'].fillna(1)\n",
    "df_new.to_csv('out.csv')"
   ]
  },
  {
   "cell_type": "markdown",
   "metadata": {},
   "source": [
    "<strong> با توجه به ویژگی انتخاب شده بازه ی زیر را در نظر میگیریم </strong>\n",
    "<br>\n",
    "<strong>[mean - std : mean + std]</strong>\n",
    "<br>\n",
    "<strong>isnull() برای پیشبینی ابتدا افرادی که ستون کلیک بر روی تبلیغ برای انها خالی است را با تابع </strong>\n",
    "<br>\n",
    "<strong>مشخص کرده سپس برای هر فرد اگر میزان مصرف اینترنت در روز او در بازه ی کلاس 1 بود پیشبینی میکنیم که روی تبلیغ کلیک خواهد کرد و اگر میزان مصرف روزانه اینترنت او در بازه ی کلاس 0 بود پیشبینی میکنیم که روی تبلیغ کلیک نخواهد کرد </strong>\n",
    "<br>\n",
    "<strong> برای افرادی که میزان اینترنت مصرفی روزانه ان ها در هیچ کدام از بازه ها قرار نداشت فرض میکنیم که در کلاس 1 قرار خواهند گرفت </strong>"
   ]
  },
  {
   "cell_type": "markdown",
   "metadata": {},
   "source": [
    "<strong> در دنیای واقعی با داده هایی کار میکنیم که ممکن است بخش هایی از اطلاعات آن در دسترس نبوده باشد و خانه مربوط به آنها خالی باشد </strong>\n",
    "<br>\n",
    "<strong>این نوع داده ها باید به روشی رسیدگی شوندچون ممکن است در پیش بینی های ما باعث به وجود آمدن خطا شوند و کار مارا سخت تر کنند </strong>\n",
    "<br>\n",
    "<strong>در این تمرین در هر بخش داده ها را بررسی کردیم و بهترین روش برای جایگزین کردن خانه های خالی و رسیدگی به انواع دیگری از داده ها که در اختیار ما قرار گرفته شده بودند را انتخاب کردیم </strong>"
   ]
  }
 ],
 "metadata": {
  "kernelspec": {
   "display_name": "Python 3",
   "language": "python",
   "name": "python3"
  },
  "language_info": {
   "codemirror_mode": {
    "name": "ipython",
    "version": 3
   },
   "file_extension": ".py",
   "mimetype": "text/x-python",
   "name": "python",
   "nbconvert_exporter": "python",
   "pygments_lexer": "ipython3",
   "version": "3.8.0"
  }
 },
 "nbformat": 4,
 "nbformat_minor": 4
}
